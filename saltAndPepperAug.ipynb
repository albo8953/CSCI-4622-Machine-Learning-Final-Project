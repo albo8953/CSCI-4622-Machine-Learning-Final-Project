{
 "cells": [
  {
   "cell_type": "code",
   "execution_count": 5,
   "metadata": {},
   "outputs": [
    {
     "name": "stdout",
     "output_type": "stream",
     "text": [
      "8.0.1\n"
     ]
    }
   ],
   "source": [
    "import numpy as np\n",
    "import PIL\n",
    "print(PIL.__version__)"
   ]
  },
  {
   "cell_type": "code",
   "execution_count": 33,
   "metadata": {},
   "outputs": [],
   "source": [
    "from PIL import Image\n",
    "chords = ['C', 'D', 'G', 'Em']\n",
    "for c in chords:\n",
    "    for i in range(5):\n",
    "        image = Image.open('zoe_' + c + '_LR' + str(i+1) + '.jpg')\n",
    "\n",
    "        # Convert image to grayscale\n",
    "        image = image.convert('L')\n",
    "\n",
    "        numpydata = np.asarray(image)\n",
    "        # # 2D to 1D array\n",
    "        oneD = numpydata.flatten()\n",
    "\n",
    "        # Salt and Pepper image augmentation\n",
    "        # Randomly pick 10000 pixels to augment\n",
    "        for j in range(10000):\n",
    "            r = np.random.randint(0,249841)\n",
    "            v = np.random.randint(1,255)\n",
    "            oneD[r] = oneD[r] + v\n",
    "\n",
    "        np_im = np.reshape(oneD, (433,577))\n",
    "        new_im = Image.fromarray(np_im)\n",
    "        new_im.save('zoe_' + c + '_SP' + str(i+1) + '.jpg')"
   ]
  },
  {
   "cell_type": "code",
   "execution_count": null,
   "metadata": {},
   "outputs": [],
   "source": []
  }
 ],
 "metadata": {
  "kernelspec": {
   "display_name": "Python 3",
   "language": "python",
   "name": "python3"
  },
  "language_info": {
   "codemirror_mode": {
    "name": "ipython",
    "version": 3
   },
   "file_extension": ".py",
   "mimetype": "text/x-python",
   "name": "python",
   "nbconvert_exporter": "python",
   "pygments_lexer": "ipython3",
   "version": "3.8.6"
  }
 },
 "nbformat": 4,
 "nbformat_minor": 4
}
